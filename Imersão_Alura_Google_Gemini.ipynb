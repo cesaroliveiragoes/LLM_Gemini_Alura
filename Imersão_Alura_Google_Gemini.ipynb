{
  "nbformat": 4,
  "nbformat_minor": 0,
  "metadata": {
    "colab": {
      "provenance": [],
      "mount_file_id": "1i7O8rE-vJ9w7D4nCY1HXnV1KWZkg2Da0",
      "authorship_tag": "ABX9TyNWY2u/D/BNrpdXdZpeKJZ+",
      "include_colab_link": true
    },
    "kernelspec": {
      "name": "python3",
      "display_name": "Python 3"
    },
    "language_info": {
      "name": "python"
    }
  },
  "cells": [
    {
      "cell_type": "markdown",
      "metadata": {
        "id": "view-in-github",
        "colab_type": "text"
      },
      "source": [
        "<a href=\"https://colab.research.google.com/github/cesaroliveiragoes/LLM_Gemini_Alura/blob/main/Imers%C3%A3o_Alura_Google_Gemini.ipynb\" target=\"_parent\"><img src=\"https://colab.research.google.com/assets/colab-badge.svg\" alt=\"Open In Colab\"/></a>"
      ]
    },
    {
      "cell_type": "code",
      "source": [
        "! pip install -q -U google-generativeai"
      ],
      "metadata": {
        "id": "Xpq8BsphL95R"
      },
      "execution_count": null,
      "outputs": []
    },
    {
      "cell_type": "code",
      "source": [
        "import google.generativeai as genai\n",
        "from google.colab import userdata\n",
        "\n",
        "api_key = userdata.get('SECRET_KEY')\n",
        "genai.configure(api_key=api_key)"
      ],
      "metadata": {
        "id": "NCArPiFmMInk"
      },
      "execution_count": null,
      "outputs": []
    },
    {
      "cell_type": "code",
      "source": [
        "for m in genai.list_models():\n",
        "  if \"generateContent\" in m.supported_generation_methods:\n",
        "    print(m.name)"
      ],
      "metadata": {
        "colab": {
          "base_uri": "https://localhost:8080/",
          "height": 225
        },
        "id": "lEWxTosdMznb",
        "outputId": "72390942-30c1-416e-f270-2229adc20567"
      },
      "execution_count": null,
      "outputs": [
        {
          "output_type": "stream",
          "name": "stdout",
          "text": [
            "models/gemini-1.0-pro\n",
            "models/gemini-1.0-pro-001\n",
            "models/gemini-1.0-pro-latest\n",
            "models/gemini-1.0-pro-vision-latest\n",
            "models/gemini-1.5-flash\n",
            "models/gemini-1.5-flash-001\n",
            "models/gemini-1.5-flash-latest\n",
            "models/gemini-1.5-pro\n",
            "models/gemini-1.5-pro-001\n",
            "models/gemini-1.5-pro-latest\n",
            "models/gemini-pro\n",
            "models/gemini-pro-vision\n"
          ]
        }
      ]
    },
    {
      "cell_type": "code",
      "source": [
        "generation_config = {\n",
        "    \"candidate_count\": 1,\n",
        "    \"temperature\": 0.5\n",
        "}\n",
        "# Configurações gerais"
      ],
      "metadata": {
        "id": "oqTHmBbQRb03"
      },
      "execution_count": null,
      "outputs": []
    },
    {
      "cell_type": "code",
      "source": [
        "safety_settings = {\n",
        "    \"HARASSMENT\": \"BLOCK_NONE\",\n",
        "    \"HATE\": \"BLOCK_NONE\",\n",
        "    \"SEXUAL\": \"BLOCK_NONE\",\n",
        "    \"DANGEROUS\": \"BLOCK_NONE\",\n",
        "}\n",
        "\n",
        "# Configurações de Segurança"
      ],
      "metadata": {
        "id": "xHjDPbNlReW8"
      },
      "execution_count": null,
      "outputs": []
    },
    {
      "cell_type": "markdown",
      "source": [
        "Inicializando o Modelo"
      ],
      "metadata": {
        "id": "npfae3KGTVBx"
      }
    },
    {
      "cell_type": "code",
      "source": [
        "model = genai.GenerativeModel(model_name=\"gemini-1.0-pro\",\n",
        "                              generation_config=generation_config,\n",
        "                              safety_settings=safety_settings)"
      ],
      "metadata": {
        "id": "lG-hUUEeTWfK"
      },
      "execution_count": null,
      "outputs": []
    },
    {
      "cell_type": "code",
      "source": [
        "response = model.generate_content(\"Vamos aprender conteúdo sobre IA. Me dê sugestões.\")\n",
        "print(response.text) # o .text serve pra chamar o texto somente"
      ],
      "metadata": {
        "colab": {
          "base_uri": "https://localhost:8080/",
          "height": 729
        },
        "id": "xh9SQVoRU6dt",
        "outputId": "8e7fb543-b7cb-41a2-e527-b96f26900abb"
      },
      "execution_count": null,
      "outputs": [
        {
          "output_type": "stream",
          "name": "stdout",
          "text": [
            "**Conceitos Básicos de IA**\n",
            "\n",
            "* Definição e história da Inteligência Artificial\n",
            "* Tipos de IA: Fraca, Forte e Geral\n",
            "* Aprendizado de Máquina, Aprendizado Profundo e Redes Neurais\n",
            "* Processamento de Linguagem Natural\n",
            "* Visão Computacional\n",
            "\n",
            "**Aplicações de IA**\n",
            "\n",
            "* Automação de tarefas\n",
            "* Diagnóstico médico\n",
            "* Previsão financeira\n",
            "* Reconhecimento facial\n",
            "* Carros autônomos\n",
            "\n",
            "**Ética e Implicações Sociais da IA**\n",
            "\n",
            "* Viés e discriminação em sistemas de IA\n",
            "* Perda de empregos e desigualdade social\n",
            "* Privacidade e vigilância\n",
            "* Regulamentação e governança da IA\n",
            "\n",
            "**Técnicas e Ferramentas de IA**\n",
            "\n",
            "* Linguagens de programação para IA (Python, R, Java)\n",
            "* Bibliotecas e frameworks para Aprendizado de Máquina (TensorFlow, PyTorch)\n",
            "* Plataformas de computação em nuvem para IA (AWS, Azure, GCP)\n",
            "\n",
            "**Tendências e Avanços em IA**\n",
            "\n",
            "* IA Generativa (GPT-3, DALL-E 2)\n",
            "* Aprendizado por Reforço\n",
            "* IA Quântica\n",
            "* Metaverso e IA\n",
            "\n",
            "**Recursos para Aprender IA**\n",
            "\n",
            "* Cursos online: Coursera, edX, Udemy\n",
            "* Livros: \"Inteligência Artificial: Uma Abordagem Moderna\" (Stuart Russell e Peter Norvig), \"Aprendizado Profundo\" (Ian Goodfellow et al.)\n",
            "* Comunidades e fóruns: Reddit, Stack Overflow, GitHub\n"
          ]
        }
      ]
    },
    {
      "cell_type": "code",
      "source": [
        "chat = model.start_chat(history=[])"
      ],
      "metadata": {
        "id": "DjegiUxlV4rI"
      },
      "execution_count": null,
      "outputs": []
    },
    {
      "cell_type": "code",
      "source": [
        "prompt = input(\"Esperando prompt: \")\n",
        "\n",
        "while prompt != \"fim\":\n",
        "  response = chat.send_message(prompt)\n",
        "  print(\"Resposta: \", response.text, \"\\n\")\n",
        "  prompt = input(\"Esperando prompt: \")"
      ],
      "metadata": {
        "colab": {
          "base_uri": "https://localhost:8080/",
          "height": 173
        },
        "id": "wzkf5DAmW8F-",
        "outputId": "7780891b-0c23-445b-edcf-cae94b00a6f8"
      },
      "execution_count": null,
      "outputs": [
        {
          "name": "stdout",
          "output_type": "stream",
          "text": [
            "Esperando prompt: Onde fica Santorini?\n",
            "Resposta:  Mar Egeu, Grécia \n",
            "\n",
            "Esperando prompt: Qual o tamanho do Edificío Matinelli?\n",
            "Resposta:  **Altura:** 105 metros (344 pés)\n",
            "**Número de andares:** 22\n",
            "**Área total:** 30.000 metros quadrados (322.917 pés quadrados) \n",
            "\n",
            "Esperando prompt: fim\n"
          ]
        }
      ]
    },
    {
      "cell_type": "code",
      "source": [
        "chat"
      ],
      "metadata": {
        "colab": {
          "base_uri": "https://localhost:8080/"
        },
        "id": "oy6fasQYZD9y",
        "outputId": "3bc6bf04-28f5-4c5f-f8ec-53e37348258b"
      },
      "execution_count": null,
      "outputs": [
        {
          "output_type": "execute_result",
          "data": {
            "text/plain": [
              "ChatSession(\n",
              "    model=genai.GenerativeModel(\n",
              "        model_name='models/gemini-1.0-pro',\n",
              "        generation_config={'candidate_count': 1, 'temperature': 0.5},\n",
              "        safety_settings={<HarmCategory.HARM_CATEGORY_HARASSMENT: 7>: <HarmBlockThreshold.BLOCK_NONE: 4>, <HarmCategory.HARM_CATEGORY_HATE_SPEECH: 8>: <HarmBlockThreshold.BLOCK_NONE: 4>, <HarmCategory.HARM_CATEGORY_SEXUALLY_EXPLICIT: 9>: <HarmBlockThreshold.BLOCK_NONE: 4>, <HarmCategory.HARM_CATEGORY_DANGEROUS_CONTENT: 10>: <HarmBlockThreshold.BLOCK_NONE: 4>},\n",
              "        tools=None,\n",
              "        system_instruction=None,\n",
              "    ),\n",
              "    history=[glm.Content({'parts': [{'text': 'Onde fica Santorini?'}], 'role': 'user'}), glm.Content({'parts': [{'text': 'Mar Egeu, Grécia'}], 'role': 'model'}), glm.Content({'parts': [{'text': 'Qual o taman...ío Matinelli?'}], 'role': 'user'}), glm.Content({'parts': [{'text': '**Altura:** ...és quadrados)'}], 'role': 'model'})]\n",
              ")"
            ]
          },
          "metadata": {},
          "execution_count": 10
        }
      ]
    },
    {
      "cell_type": "code",
      "source": [
        "chat.history"
      ],
      "metadata": {
        "colab": {
          "base_uri": "https://localhost:8080/"
        },
        "id": "LEGaNXV0ZFy2",
        "outputId": "b87fbfe1-bc9f-496f-da56-8122845459b0"
      },
      "execution_count": null,
      "outputs": [
        {
          "output_type": "execute_result",
          "data": {
            "text/plain": [
              "[parts {\n",
              "   text: \"Onde fica Santorini?\"\n",
              " }\n",
              " role: \"user\",\n",
              " parts {\n",
              "   text: \"Mar Egeu, Gr\\303\\251cia\"\n",
              " }\n",
              " role: \"model\",\n",
              " parts {\n",
              "   text: \"Qual o tamanho do Edific\\303\\255o Matinelli?\"\n",
              " }\n",
              " role: \"user\",\n",
              " parts {\n",
              "   text: \"**Altura:** 105 metros (344 p\\303\\251s)\\n**N\\303\\272mero de andares:** 22\\n**\\303\\201rea total:** 30.000 metros quadrados (322.917 p\\303\\251s quadrados)\"\n",
              " }\n",
              " role: \"model\"]"
            ]
          },
          "metadata": {},
          "execution_count": 11
        }
      ]
    },
    {
      "cell_type": "code",
      "source": [
        "# melhorando a visualização\n",
        "#código disponínivel em https://ai.google.dev/tutorials/python_quickstart#import_packages\n",
        "import pathlib\n",
        "import textwrap\n",
        "\n",
        "import google.generativeai as genai\n",
        "\n",
        "from IPython.display import display\n",
        "from IPython.display import Markdown\n",
        "\n",
        "\n",
        "def to_markdown(text):\n",
        "  text = text.replace('•', '  *')\n",
        "  return Markdown(textwrap.indent(text, '> ', predicate=lambda _: True))\n",
        "\n",
        "  #imprimindo histórico\n",
        "\n",
        "for message in chat.history:\n",
        "  display(to_markdown(f'**{message.role}**: {message.parts[0].text}'))\n",
        "  print('-----------------------------------------------------')"
      ],
      "metadata": {
        "colab": {
          "base_uri": "https://localhost:8080/",
          "height": 268
        },
        "id": "T3McRF9oZqpa",
        "outputId": "4f006ba9-b3fe-4274-9623-59d2081af365"
      },
      "execution_count": null,
      "outputs": [
        {
          "output_type": "display_data",
          "data": {
            "text/plain": [
              "<IPython.core.display.Markdown object>"
            ],
            "text/markdown": "> **user**: Onde fica Santorini?"
          },
          "metadata": {}
        },
        {
          "output_type": "stream",
          "name": "stdout",
          "text": [
            "-----------------------------------------------------\n"
          ]
        },
        {
          "output_type": "display_data",
          "data": {
            "text/plain": [
              "<IPython.core.display.Markdown object>"
            ],
            "text/markdown": "> **model**: Mar Egeu, Grécia"
          },
          "metadata": {}
        },
        {
          "output_type": "stream",
          "name": "stdout",
          "text": [
            "-----------------------------------------------------\n"
          ]
        },
        {
          "output_type": "display_data",
          "data": {
            "text/plain": [
              "<IPython.core.display.Markdown object>"
            ],
            "text/markdown": "> **user**: Qual o tamanho do Edificío Matinelli?"
          },
          "metadata": {}
        },
        {
          "output_type": "stream",
          "name": "stdout",
          "text": [
            "-----------------------------------------------------\n"
          ]
        },
        {
          "output_type": "display_data",
          "data": {
            "text/plain": [
              "<IPython.core.display.Markdown object>"
            ],
            "text/markdown": "> **model**: **Altura:** 105 metros (344 pés)\n> **Número de andares:** 22\n> **Área total:** 30.000 metros quadrados (322.917 pés quadrados)"
          },
          "metadata": {}
        },
        {
          "output_type": "stream",
          "name": "stdout",
          "text": [
            "-----------------------------------------------------\n"
          ]
        }
      ]
    },
    {
      "cell_type": "code",
      "source": [
        "generation_config = {\n",
        "    \"candidate_count\": 1,\n",
        "    \"temperature\": 0.5\n",
        "}"
      ],
      "metadata": {
        "id": "LT7WVCEXMg-g"
      },
      "execution_count": null,
      "outputs": []
    }
  ]
}